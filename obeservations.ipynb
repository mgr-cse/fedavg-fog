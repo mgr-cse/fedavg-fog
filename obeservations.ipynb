{
 "cells": [
  {
   "attachments": {},
   "cell_type": "markdown",
   "metadata": {},
   "source": [
    "# Notes\n",
    "\n",
    "## Base command\n",
    "\n",
    "```bash\n",
    "python server.py -nc 100 -cf 0.1 -E 5 -B 10 -mn mnist_2nn  -ncomm 100 -iid 0 -lr 0.01 -vf 20 -g 0\n",
    "```"
   ]
  },
  {
   "attachments": {},
   "cell_type": "markdown",
   "metadata": {},
   "source": [
    "# Add Hierarchy"
   ]
  }
 ],
 "metadata": {
  "language_info": {
   "name": "python"
  },
  "orig_nbformat": 4
 },
 "nbformat": 4,
 "nbformat_minor": 2
}
